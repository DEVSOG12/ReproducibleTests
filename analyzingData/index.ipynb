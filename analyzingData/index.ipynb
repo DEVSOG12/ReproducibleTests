{
 "cells": [
  {
   "cell_type": "code",
   "execution_count": 3,
   "outputs": [],
   "source": [
    "import pandas\n",
    "import numpy\n",
    "import matplotlib.pyplot as plt\n"
   ],
   "metadata": {
    "collapsed": false
   }
  },
  {
   "cell_type": "code",
   "execution_count": 153,
   "outputs": [],
   "source": [
    "# load dataset\n",
    "dataframe = pandas.read_csv(\"data/records_fourth.csv\", header=0)\n",
    "\n"
   ],
   "metadata": {
    "collapsed": false
   }
  },
  {
   "cell_type": "code",
   "execution_count": 154,
   "outputs": [
    {
     "data": {
      "text/plain": "                 name gh_version pypi_version   status  \\\n0             inapppy        2.6        2.5.2  Success   \n1  energy-trading-api     0.0.34       0.0.34  Success   \n2         django-guid     Failed       Failed   Failed   \n3              tiledb     Failed       Failed   Failed   \n4        pytest-sanic      1.9.1        1.9.1  Success   \n\n                                          diffoscope  \\\n0                     ├── file list inapppy setup.py   \n1  ├── file list README.md energy_trading_api set...   \n2                                              Error   \n3                                              Error   \n4                             ├── file list setup.py   \n\n                                              error  \n0                                                NA  \n1                                                NA  \n2                             GH: No setup.py found  \n3   GH: No version found after checking __init__.py  \n4                                                NA  ",
      "text/html": "<div>\n<style scoped>\n    .dataframe tbody tr th:only-of-type {\n        vertical-align: middle;\n    }\n\n    .dataframe tbody tr th {\n        vertical-align: top;\n    }\n\n    .dataframe thead th {\n        text-align: right;\n    }\n</style>\n<table border=\"1\" class=\"dataframe\">\n  <thead>\n    <tr style=\"text-align: right;\">\n      <th></th>\n      <th>name</th>\n      <th>gh_version</th>\n      <th>pypi_version</th>\n      <th>status</th>\n      <th>diffoscope</th>\n      <th>error</th>\n    </tr>\n  </thead>\n  <tbody>\n    <tr>\n      <th>0</th>\n      <td>inapppy</td>\n      <td>2.6</td>\n      <td>2.5.2</td>\n      <td>Success</td>\n      <td>├── file list inapppy setup.py</td>\n      <td>NA</td>\n    </tr>\n    <tr>\n      <th>1</th>\n      <td>energy-trading-api</td>\n      <td>0.0.34</td>\n      <td>0.0.34</td>\n      <td>Success</td>\n      <td>├── file list README.md energy_trading_api set...</td>\n      <td>NA</td>\n    </tr>\n    <tr>\n      <th>2</th>\n      <td>django-guid</td>\n      <td>Failed</td>\n      <td>Failed</td>\n      <td>Failed</td>\n      <td>Error</td>\n      <td>GH: No setup.py found</td>\n    </tr>\n    <tr>\n      <th>3</th>\n      <td>tiledb</td>\n      <td>Failed</td>\n      <td>Failed</td>\n      <td>Failed</td>\n      <td>Error</td>\n      <td>GH: No version found after checking __init__.py</td>\n    </tr>\n    <tr>\n      <th>4</th>\n      <td>pytest-sanic</td>\n      <td>1.9.1</td>\n      <td>1.9.1</td>\n      <td>Success</td>\n      <td>├── file list setup.py</td>\n      <td>NA</td>\n    </tr>\n  </tbody>\n</table>\n</div>"
     },
     "execution_count": 154,
     "metadata": {},
     "output_type": "execute_result"
    }
   ],
   "source": [
    "dataframe.head()"
   ],
   "metadata": {
    "collapsed": false
   }
  },
  {
   "cell_type": "code",
   "execution_count": 155,
   "outputs": [
    {
     "data": {
      "text/plain": "           name gh_version pypi_version  status diffoscope error\ncount      1000       1000         1000    1000        999  1000\nunique      972        199          199       2        173     6\ntop     abodepy     Failed       Failed  Failed      Error    NA\nfreq          3        696          696     712        712   288",
      "text/html": "<div>\n<style scoped>\n    .dataframe tbody tr th:only-of-type {\n        vertical-align: middle;\n    }\n\n    .dataframe tbody tr th {\n        vertical-align: top;\n    }\n\n    .dataframe thead th {\n        text-align: right;\n    }\n</style>\n<table border=\"1\" class=\"dataframe\">\n  <thead>\n    <tr style=\"text-align: right;\">\n      <th></th>\n      <th>name</th>\n      <th>gh_version</th>\n      <th>pypi_version</th>\n      <th>status</th>\n      <th>diffoscope</th>\n      <th>error</th>\n    </tr>\n  </thead>\n  <tbody>\n    <tr>\n      <th>count</th>\n      <td>1000</td>\n      <td>1000</td>\n      <td>1000</td>\n      <td>1000</td>\n      <td>999</td>\n      <td>1000</td>\n    </tr>\n    <tr>\n      <th>unique</th>\n      <td>972</td>\n      <td>199</td>\n      <td>199</td>\n      <td>2</td>\n      <td>173</td>\n      <td>6</td>\n    </tr>\n    <tr>\n      <th>top</th>\n      <td>abodepy</td>\n      <td>Failed</td>\n      <td>Failed</td>\n      <td>Failed</td>\n      <td>Error</td>\n      <td>NA</td>\n    </tr>\n    <tr>\n      <th>freq</th>\n      <td>3</td>\n      <td>696</td>\n      <td>696</td>\n      <td>712</td>\n      <td>712</td>\n      <td>288</td>\n    </tr>\n  </tbody>\n</table>\n</div>"
     },
     "execution_count": 155,
     "metadata": {},
     "output_type": "execute_result"
    }
   ],
   "source": [
    "dataframe.describe()"
   ],
   "metadata": {
    "collapsed": false
   }
  },
  {
   "cell_type": "code",
   "execution_count": 156,
   "outputs": [
    {
     "data": {
      "text/plain": "Failed     712\nSuccess    288\nName: status, dtype: int64"
     },
     "execution_count": 156,
     "metadata": {},
     "output_type": "execute_result"
    }
   ],
   "source": [
    "dataframe['status'].value_counts()"
   ],
   "metadata": {
    "collapsed": false
   }
  },
  {
   "cell_type": "code",
   "execution_count": 157,
   "outputs": [
    {
     "data": {
      "text/plain": "<AxesSubplot: >"
     },
     "execution_count": 157,
     "metadata": {},
     "output_type": "execute_result"
    },
    {
     "data": {
      "text/plain": "<Figure size 640x480 with 1 Axes>",
      "image/png": "[encoded data removed]"
     },
     "metadata": {},
     "output_type": "display_data"
    }
   ],
   "source": [
    "dataframe['status'].hist()"
   ],
   "metadata": {
    "collapsed": false
   }
  },
  {
   "cell_type": "code",
   "execution_count": 158,
   "outputs": [
    {
     "data": {
      "text/plain": "                                  name gh_version pypi_version   status  \\\n0                              inapppy        2.6        2.5.2  Success   \n1                   energy-trading-api     0.0.34       0.0.34  Success   \n4                         pytest-sanic      1.9.1        1.9.1  Success   \n6                        google-search      1.1.1        1.1.1  Success   \n8                        pandas-dedupe      1.5.0        1.5.0  Success   \n14                              ctutlz        ..1        0.9.8  Success   \n16                             jsonseq      1.0.0        1.0.0  Success   \n19   django-rest-framework-mongoengine      3.4.1        3.4.1  Success   \n20                     html-similarity      0.3.3        0.3.3  Success   \n21                 markdownsuperscript   2.1.1440        2.1.1  Success   \n28                flask-logging-extras      2.0.0        2.0.0  Success   \n30                    gecosistema-core      0.0.0      0.0.200  Success   \n32                               pycef       1.11         1.11  Success   \n35                            keras-rl      0.4.2        0.4.2  Success   \n39                              yalexs      1.5.1        1.5.1  Success   \n41                            tfcoreml        2.0          2.0  Success   \n45                             scrolls       0.0.  0.0.4823123  Success   \n47                             auto-ml     ..1.1.       2.9.10  Success   \n48                        getuseragent      0.0.7        0.0.7  Success   \n50                          deebotozmo      0.0.0       4.0.04  Success   \n52                               json2      0.4.0        0.4.0  Success   \n61             sphinxcontrib-contentui      0.2.5        0.2.2  Success   \n73                       fakenewsredis     0.10.0       0.10.1  Success   \n74                    snipsfakeweather    1.1.1.2      1.1.1.2  Success   \n78                        genshinstats   1.4.11.3     1.4.11.3  Success   \n79                         scikit-plot      0.3.7        0.3.7  Success   \n80       better-setuptools-git-version      1.0.5        1.0.5  Success   \n84               django-docopt-command      1.1.0        1.1.0  Success   \n86                                 sxl     0.0.19      0.0.110  Success   \n90                         xgboost-ray     0.1.17       0.1.10  Success   \n94                         dicomrttool      2.0.8        2.0.8  Success   \n101                           paginate      0.5.6        0.5.6  Success   \n107                             ueagle      0.0.2        0.0.2  Success   \n112                          telegraph      2.2.0        2.2.0  Success   \n117                wtforms-jsonschema2       ...2        0.7.0  Success   \n\n                                            diffoscope error  \n0                       ├── file list inapppy setup.py    NA  \n1    ├── file list README.md energy_trading_api set...    NA  \n4                               ├── file list setup.py    NA  \n6                              ├── file list setup.cfg    NA  \n8                              ├── file list README.md    NA  \n14                       ├── file list ctutlz setup.py    NA  \n16                                       ├── file list    NA  \n19   ├── file list README.md rest_framework_mongoen...    NA  \n20                                       ├── file list    NA  \n21                ├── file list requirements setup.cfg    NA  \n28                             ├── file list setup.cfg    NA  \n30   ├── file list README.md gecosistema_core setup.py    NA  \n32                             ├── file list setup.cfg    NA  \n35          ├── file list README.md rl setup.cfg tests    NA  \n39                             ├── file list setup.cfg    NA  \n41                                       ├── file list    NA  \n45                             ├── file list setup.cfg    NA  \n47              ├── file list README.md docs setup.cfg    NA  \n48                             ├── file list README.md    NA  \n50   ├── file list README.md deebotozmo setup.cfg s...    NA  \n52                             ├── file list README.md    NA  \n61   ├── file list CHANGES.rst README.rst setup.cfg...    NA  \n73   ├── file list README.rst fakenewsredis.py setu...    NA  \n74            ├── file list setup.cfg snipsfakeweather    NA  \n78   ├── file list LICENSE README.md genshinstats s...    NA  \n79                            ├── file list scikitplot    NA  \n80                                       ├── file list    NA  \n84                                       ├── file list    NA  \n86                          ├── file list setup.py sxl    NA  \n90   ├── file list .github .gitignore format.sh run...    NA  \n94   ├── file list LICENSE.txt MANIFEST.in README.m...    NA  \n101  ├── file list CHANGELOG.txt README.md paginate...    NA  \n107                               ├── file list uEagle    NA  \n112                                      ├── file list    NA  \n117                            ├── file list setup.cfg    NA  ",
      "text/html": "<div>\n<style scoped>\n    .dataframe tbody tr th:only-of-type {\n        vertical-align: middle;\n    }\n\n    .dataframe tbody tr th {\n        vertical-align: top;\n    }\n\n    .dataframe thead th {\n        text-align: right;\n    }\n</style>\n<table border=\"1\" class=\"dataframe\">\n  <thead>\n    <tr style=\"text-align: right;\">\n      <th></th>\n      <th>name</th>\n      <th>gh_version</th>\n      <th>pypi_version</th>\n      <th>status</th>\n      <th>diffoscope</th>\n      <th>error</th>\n    </tr>\n  </thead>\n  <tbody>\n    <tr>\n      <th>0</th>\n      <td>inapppy</td>\n      <td>2.6</td>\n      <td>2.5.2</td>\n      <td>Success</td>\n      <td>├── file list inapppy setup.py</td>\n      <td>NA</td>\n    </tr>\n    <tr>\n      <th>1</th>\n      <td>energy-trading-api</td>\n      <td>0.0.34</td>\n      <td>0.0.34</td>\n      <td>Success</td>\n      <td>├── file list README.md energy_trading_api set...</td>\n      <td>NA</td>\n    </tr>\n    <tr>\n      <th>4</th>\n      <td>pytest-sanic</td>\n      <td>1.9.1</td>\n      <td>1.9.1</td>\n      <td>Success</td>\n      <td>├── file list setup.py</td>\n      <td>NA</td>\n    </tr>\n    <tr>\n      <th>6</th>\n      <td>google-search</td>\n      <td>1.1.1</td>\n      <td>1.1.1</td>\n      <td>Success</td>\n      <td>├── file list setup.cfg</td>\n      <td>NA</td>\n    </tr>\n    <tr>\n      <th>8</th>\n      <td>pandas-dedupe</td>\n      <td>1.5.0</td>\n      <td>1.5.0</td>\n      <td>Success</td>\n      <td>├── file list README.md</td>\n      <td>NA</td>\n    </tr>\n    <tr>\n      <th>14</th>\n      <td>ctutlz</td>\n      <td>..1</td>\n      <td>0.9.8</td>\n      <td>Success</td>\n      <td>├── file list ctutlz setup.py</td>\n      <td>NA</td>\n    </tr>\n    <tr>\n      <th>16</th>\n      <td>jsonseq</td>\n      <td>1.0.0</td>\n      <td>1.0.0</td>\n      <td>Success</td>\n      <td>├── file list</td>\n      <td>NA</td>\n    </tr>\n    <tr>\n      <th>19</th>\n      <td>django-rest-framework-mongoengine</td>\n      <td>3.4.1</td>\n      <td>3.4.1</td>\n      <td>Success</td>\n      <td>├── file list README.md rest_framework_mongoen...</td>\n      <td>NA</td>\n    </tr>\n    <tr>\n      <th>20</th>\n      <td>html-similarity</td>\n      <td>0.3.3</td>\n      <td>0.3.3</td>\n      <td>Success</td>\n      <td>├── file list</td>\n      <td>NA</td>\n    </tr>\n    <tr>\n      <th>21</th>\n      <td>markdownsuperscript</td>\n      <td>2.1.1440</td>\n      <td>2.1.1</td>\n      <td>Success</td>\n      <td>├── file list requirements setup.cfg</td>\n      <td>NA</td>\n    </tr>\n    <tr>\n      <th>28</th>\n      <td>flask-logging-extras</td>\n      <td>2.0.0</td>\n      <td>2.0.0</td>\n      <td>Success</td>\n      <td>├── file list setup.cfg</td>\n      <td>NA</td>\n    </tr>\n    <tr>\n      <th>30</th>\n      <td>gecosistema-core</td>\n      <td>0.0.0</td>\n      <td>0.0.200</td>\n      <td>Success</td>\n      <td>├── file list README.md gecosistema_core setup.py</td>\n      <td>NA</td>\n    </tr>\n    <tr>\n      <th>32</th>\n      <td>pycef</td>\n      <td>1.11</td>\n      <td>1.11</td>\n      <td>Success</td>\n      <td>├── file list setup.cfg</td>\n      <td>NA</td>\n    </tr>\n    <tr>\n      <th>35</th>\n      <td>keras-rl</td>\n      <td>0.4.2</td>\n      <td>0.4.2</td>\n      <td>Success</td>\n      <td>├── file list README.md rl setup.cfg tests</td>\n      <td>NA</td>\n    </tr>\n    <tr>\n      <th>39</th>\n      <td>yalexs</td>\n      <td>1.5.1</td>\n      <td>1.5.1</td>\n      <td>Success</td>\n      <td>├── file list setup.cfg</td>\n      <td>NA</td>\n    </tr>\n    <tr>\n      <th>41</th>\n      <td>tfcoreml</td>\n      <td>2.0</td>\n      <td>2.0</td>\n      <td>Success</td>\n      <td>├── file list</td>\n      <td>NA</td>\n    </tr>\n    <tr>\n      <th>45</th>\n      <td>scrolls</td>\n      <td>0.0.</td>\n      <td>0.0.4823123</td>\n      <td>Success</td>\n      <td>├── file list setup.cfg</td>\n      <td>NA</td>\n    </tr>\n    <tr>\n      <th>47</th>\n      <td>auto-ml</td>\n      <td>..1.1.</td>\n      <td>2.9.10</td>\n      <td>Success</td>\n      <td>├── file list README.md docs setup.cfg</td>\n      <td>NA</td>\n    </tr>\n    <tr>\n      <th>48</th>\n      <td>getuseragent</td>\n      <td>0.0.7</td>\n      <td>0.0.7</td>\n      <td>Success</td>\n      <td>├── file list README.md</td>\n      <td>NA</td>\n    </tr>\n    <tr>\n      <th>50</th>\n      <td>deebotozmo</td>\n      <td>0.0.0</td>\n      <td>4.0.04</td>\n      <td>Success</td>\n      <td>├── file list README.md deebotozmo setup.cfg s...</td>\n      <td>NA</td>\n    </tr>\n    <tr>\n      <th>52</th>\n      <td>json2</td>\n      <td>0.4.0</td>\n      <td>0.4.0</td>\n      <td>Success</td>\n      <td>├── file list README.md</td>\n      <td>NA</td>\n    </tr>\n    <tr>\n      <th>61</th>\n      <td>sphinxcontrib-contentui</td>\n      <td>0.2.5</td>\n      <td>0.2.2</td>\n      <td>Success</td>\n      <td>├── file list CHANGES.rst README.rst setup.cfg...</td>\n      <td>NA</td>\n    </tr>\n    <tr>\n      <th>73</th>\n      <td>fakenewsredis</td>\n      <td>0.10.0</td>\n      <td>0.10.1</td>\n      <td>Success</td>\n      <td>├── file list README.rst fakenewsredis.py setu...</td>\n      <td>NA</td>\n    </tr>\n    <tr>\n      <th>74</th>\n      <td>snipsfakeweather</td>\n      <td>1.1.1.2</td>\n      <td>1.1.1.2</td>\n      <td>Success</td>\n      <td>├── file list setup.cfg snipsfakeweather</td>\n      <td>NA</td>\n    </tr>\n    <tr>\n      <th>78</th>\n      <td>genshinstats</td>\n      <td>1.4.11.3</td>\n      <td>1.4.11.3</td>\n      <td>Success</td>\n      <td>├── file list LICENSE README.md genshinstats s...</td>\n      <td>NA</td>\n    </tr>\n    <tr>\n      <th>79</th>\n      <td>scikit-plot</td>\n      <td>0.3.7</td>\n      <td>0.3.7</td>\n      <td>Success</td>\n      <td>├── file list scikitplot</td>\n      <td>NA</td>\n    </tr>\n    <tr>\n      <th>80</th>\n      <td>better-setuptools-git-version</td>\n      <td>1.0.5</td>\n      <td>1.0.5</td>\n      <td>Success</td>\n      <td>├── file list</td>\n      <td>NA</td>\n    </tr>\n    <tr>\n      <th>84</th>\n      <td>django-docopt-command</td>\n      <td>1.1.0</td>\n      <td>1.1.0</td>\n      <td>Success</td>\n      <td>├── file list</td>\n      <td>NA</td>\n    </tr>\n    <tr>\n      <th>86</th>\n      <td>sxl</td>\n      <td>0.0.19</td>\n      <td>0.0.110</td>\n      <td>Success</td>\n      <td>├── file list setup.py sxl</td>\n      <td>NA</td>\n    </tr>\n    <tr>\n      <th>90</th>\n      <td>xgboost-ray</td>\n      <td>0.1.17</td>\n      <td>0.1.10</td>\n      <td>Success</td>\n      <td>├── file list .github .gitignore format.sh run...</td>\n      <td>NA</td>\n    </tr>\n    <tr>\n      <th>94</th>\n      <td>dicomrttool</td>\n      <td>2.0.8</td>\n      <td>2.0.8</td>\n      <td>Success</td>\n      <td>├── file list LICENSE.txt MANIFEST.in README.m...</td>\n      <td>NA</td>\n    </tr>\n    <tr>\n      <th>101</th>\n      <td>paginate</td>\n      <td>0.5.6</td>\n      <td>0.5.6</td>\n      <td>Success</td>\n      <td>├── file list CHANGELOG.txt README.md paginate...</td>\n      <td>NA</td>\n    </tr>\n    <tr>\n      <th>107</th>\n      <td>ueagle</td>\n      <td>0.0.2</td>\n      <td>0.0.2</td>\n      <td>Success</td>\n      <td>├── file list uEagle</td>\n      <td>NA</td>\n    </tr>\n    <tr>\n      <th>112</th>\n      <td>telegraph</td>\n      <td>2.2.0</td>\n      <td>2.2.0</td>\n      <td>Success</td>\n      <td>├── file list</td>\n      <td>NA</td>\n    </tr>\n    <tr>\n      <th>117</th>\n      <td>wtforms-jsonschema2</td>\n      <td>...2</td>\n      <td>0.7.0</td>\n      <td>Success</td>\n      <td>├── file list setup.cfg</td>\n      <td>NA</td>\n    </tr>\n  </tbody>\n</table>\n</div>"
     },
     "execution_count": 158,
     "metadata": {},
     "output_type": "execute_result"
    }
   ],
   "source": [
    "# Check which records have \"status\" of Success and check \"diffoscope\" column for ones that have only \"├── file list\"\n",
    "\n",
    "dataframe.loc[dataframe['status'] == 'Success'].head(35)\n"
   ],
   "metadata": {
    "collapsed": false
   }
  },
  {
   "cell_type": "code",
   "execution_count": 162,
   "outputs": [
    {
     "name": "stdout",
     "output_type": "stream",
     "text": [
      "52\n",
      "jsonseq 1.0.0\n",
      "html-similarity 0.3.3\n",
      "tfcoreml 2.0\n",
      "better-setuptools-git-version 1.0.5\n",
      "django-docopt-command 1.1.0\n",
      "telegraph 2.2.0\n",
      "dataclassy 1.0.1\n",
      "poolsense 0.1.0\n",
      "performer-pytorch 1.1.4\n",
      "graphyte .1\n",
      "tensorci-client 0.0.14\n",
      "mkdocs-exclude 1.0.2\n",
      "pyaesni 0.16\n",
      "cdifflib 1.2.6\n",
      "pycontrol4 1.1.0\n",
      "pycrypt 0.7.2\n",
      "pyqrcode 1.2.1\n",
      "mmh3cffi 0.2.1\n",
      "mem-top 0.2.1\n",
      "faadelays 0.0.7\n",
      "r53-register 0.1.7\n",
      "drf-access-policy 1.5.0\n",
      "spamwatch 0.3.0\n",
      "segtok 1.5.11\n",
      "eniarbiter 1.3.2\n",
      "pytest-reorder 0.1.1\n",
      "enum34-custom 0.7.2\n",
      "cpython 0.0.6\n",
      "carly 0.13.0\n",
      "pip-install-privates 0.6.3\n",
      "pycorenlp 0.3.0\n",
      "gluish 0.3.0\n",
      "postnl-api 1.2.3\n",
      "django-shortuuidfield 0.1.3\n",
      "gelidum 0.6.0\n",
      "humps 0.2.2\n",
      "django-bmemcached 0.3.0\n",
      "public 2020.12.3\n",
      "query-string 2020.12.3\n",
      "piccata 2.0.3\n",
      "py-gfm 2.0.0\n",
      "colorlover 0.3.0\n",
      "bleach-whitelist 0.0.11\n",
      "pyforce 1.9.1\n",
      "bearychat-py 0.3.1\n",
      "geoplot 0.5.1\n",
      "nlprep 0.2.01\n",
      "pyaztro 0.3\n",
      "get-docker-secret 1.0.2\n",
      "export-to-telegraph 0.0.148\n",
      "django-migration-testcase 0.0.15\n",
      "factotum 0.1.6\n"
     ]
    }
   ],
   "source": [
    "\n",
    "dfr = dataframe.loc[dataframe['status'] == 'Success']\n",
    "dfr = dfr.loc[dfr['diffoscope'] == '├── file list']\n",
    "# len\n",
    "print(len(dfr))\n",
    "dfr.head()\n",
    "\n",
    "# Graph Success packages. name vs gh_version (is a string) chart with the version at the side\n",
    "for i in range(len(dfr)):\n",
    "    print(dfr.iloc[i]['name'], dfr.iloc[i]['gh_version'])\n",
    "\n",
    "\n"
   ],
   "metadata": {
    "collapsed": false
   }
  },
  {
   "cell_type": "code",
   "execution_count": 167,
   "outputs": [
    {
     "name": "stdout",
     "output_type": "stream",
     "text": [
      "236\n"
     ]
    }
   ],
   "source": [
    "\n",
    "dfr = dataframe.loc[dataframe['status'] == 'Success']\n",
    "dfr = dfr.loc[dfr['diffoscope'] != '├── file list']\n",
    "\n",
    "# make diffoscope column a list by spliting after \"├── file list\"\n",
    "dfr['diffoscope'] = dfr['diffoscope'].str.split('├── file list ')\n",
    "\n",
    "# dfr = dfr.loc[len(list(dfr['diffoscope'])) > 1]\n",
    "\n",
    "# dfr['diffoscope'] = dfr['diffoscope'].apply(lambda x: x[1:])\n",
    "# dfr['diffoscope'] = dfr['diffoscope'].apply(lambda x: list(x)[0].split())\n",
    "\n",
    "# dfr = dfr.loc[dfr['diffoscope'].apply(lambda x: len(x) < 2)]\n",
    "\n",
    "# dfr['count'] = dfr['diffoscope'].apply(lambda x: len(x))\n",
    "\n",
    "\n",
    "print(len(dfr))\n",
    "\n",
    "# # Plot the number of packages that have a diffoscope output that is not just \"├── file list\" table\n",
    "# fig, ax = plt.subplots()\n",
    "#\n",
    "# # hide axes\n",
    "# fig.patch.set_visible(False)\n",
    "# ax.axis('off')\n",
    "# ax.axis('tight')\n",
    "#\n",
    "#\n",
    "# ax.table(cellText=dfr['count'].values.reshape(-1, 1), colLabels=['Number of files'], rowLabels=dfr['name'].values.reshape(-1, 1), loc='center')\n",
    "#\n",
    "# fig.tight_layout()\n",
    "#\n",
    "# plt.show()\n"
   ],
   "metadata": {
    "collapsed": false
   }
  },
  {
   "cell_type": "code",
   "execution_count": 168,
   "outputs": [
    {
     "name": "stdout",
     "output_type": "stream",
     "text": [
      "712\n",
      "267\n",
      "84\n",
      "208\n",
      "137\n"
     ]
    },
    {
     "data": {
      "text/plain": "<BarContainer object of 4 artists>"
     },
     "execution_count": 168,
     "metadata": {},
     "output_type": "execute_result"
    },
    {
     "data": {
      "text/plain": "<Figure size 640x480 with 1 Axes>",
      "image/png": "[encoded data removed]"
     },
     "metadata": {},
     "output_type": "display_data"
    }
   ],
   "source": [
    "dfra = dataframe.loc[dataframe['status'] == 'Failed']\n",
    "\n",
    "print(len(dfra))\n",
    "# Check for errors involving __init__.py and setup.py not found\n",
    "dfra = dfra['error'].apply(lambda x: str(x))\n",
    "\n",
    "\n",
    "# dfr = dfra.loc[dfra['error'] in 'No version found after checking __init__.py']\n",
    "\n",
    "dfra1 = dfra.loc[dfra.str.contains('No version found after checking __init__.py')]\n",
    "dfra2 = dfra.loc[dfra.str.contains('No version found in setup.py')]\n",
    "dfra4 = dfra.loc[dfra.str.contains('No setup.py found')]\n",
    "dfra3 = dfra.loc[dfra.str.contains('Could not clone the repo')]\n",
    "# dfra4 = dfra.loc[dfra == \"NA\"]\n",
    "\n",
    "print(len(dfra1))\n",
    "print(len(dfra2))\n",
    "print(len(dfra3))\n",
    "print(len(dfra4))\n",
    "\n",
    "\n",
    "# Graph the length of dfra1, dfra2, dfra3, dfra4\n",
    "plt.bar(['__init__.py', 'setup.py', 'No setup.py', 'Could not clone'], [len(dfra1), len(dfra2), len(dfra3), len(dfra4)])"
   ],
   "metadata": {
    "collapsed": false
   }
  },
  {
   "cell_type": "code",
   "execution_count": null,
   "outputs": [],
   "source": [],
   "metadata": {
    "collapsed": false
   }
  }
 ],
 "metadata": {
  "kernelspec": {
   "display_name": "Python 3",
   "language": "python",
   "name": "python3"
  },
  "language_info": {
   "codemirror_mode": {
    "name": "ipython",
    "version": 2
   },
   "file_extension": ".py",
   "mimetype": "text/x-python",
   "name": "python",
   "nbconvert_exporter": "python",
   "pygments_lexer": "ipython2",
   "version": "2.7.6"
  }
 },
 "nbformat": 4,
 "nbformat_minor": 0
}
